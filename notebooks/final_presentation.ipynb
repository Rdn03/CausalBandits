{
 "cells": [
  {
   "cell_type": "markdown",
   "metadata": {
    "colab_type": "text",
    "id": "3Hda5PbzVEze"
   },
   "source": [
    "# Bandits with unobserved confounders: A causal Approach\n",
    "\n",
    "![Mult-armed bandit](https://github.com/Rdn03/CausalBandits/blob/preliminary_results/images/Multi-armed-bandit.png?raw=true)\n",
    "\n",
    "#### Akshay Suresh\n",
    "#### Ankitha Kumari Moodukudru\n",
    "#### Rutu Nanavati"
   ]
  },
  {
   "cell_type": "markdown",
   "metadata": {
    "colab_type": "text",
    "id": "cWNxmyZtVIkH"
   },
   "source": [
    "# Outline"
   ]
  },
  {
   "cell_type": "markdown",
   "metadata": {
    "colab_type": "text",
    "id": "Qa9OWowgVLEL"
   },
   "source": [
    "- **The multi-armed bandit problem**\n",
    "\n",
    "- **The Greedy casino problem**\n",
    "\n",
    "- **The drunk gambler**\n",
    "\n",
    "- **Random sampling**\n",
    "\n",
    "- **Thompson sampling**\n",
    "\n",
    "- **Causal Thompson sampling**\n",
    "\n",
    "- **Results**  \n",
    "\n",
    "- **Policy evaluation using Counterfactual Reasoning** \n",
    "\n",
    "- **Key learnings**\n",
    "\n"
   ]
  },
  {
   "cell_type": "markdown",
   "metadata": {
    "colab_type": "text",
    "id": "jnL8-ry6VZ5V"
   },
   "source": [
    "## The multi-armed bandit problem"
   ]
  },
  {
   "cell_type": "markdown",
   "metadata": {
    "colab_type": "text",
    "id": "HvLv07urVlJH"
   },
   "source": [
    "- Consider n-slot machines $S_1,\\ S_2,\\ S_3\\ ...\\ S_n$. Given that the payouts of each slot machine is unknown, the goal is to come up with a sequence of actions that would maximize the reward.\n",
    "\n",
    "- The multi-armed bandit problem revolves around developing a strategy in learning the true payout distributions of each of these slot machines."
   ]
  },
  {
   "cell_type": "markdown",
   "metadata": {
    "colab_type": "text",
    "id": "KmFUwbuCVobD"
   },
   "source": [
    "# The Greedy casino problem"
   ]
  },
  {
   "cell_type": "markdown",
   "metadata": {
    "colab_type": "text",
    "id": "PLcz0tAAVqX4"
   },
   "source": [
    "Consider this scenario, a greedy casino owner observes gamblers and their behavior so as to maximize the profits of the casino.\n",
    "\n",
    "On observation, the casino owner learns that the choice of pulling an arm (of the slot machine) is influenced by 2 factors\n",
    "\n",
    "- The gamber being drunk\n",
    "\n",
    "- The machine blinking"
   ]
  },
  {
   "cell_type": "markdown",
   "metadata": {
    "colab_type": "text",
    "id": "tD9N8YXIVsWj"
   },
   "source": [
    "**Suppose also that a new gambling law requires that casinos maintain a minimum attainable payout rate for slots of 30%. Cognizant of this new law, while still wanting to maximize profits by exploiting gamblers’ natural arm choices,\n",
    "the casino executives modify their new slots with the payout rates depicted in this table**"
   ]
  },
  {
   "cell_type": "markdown",
   "metadata": {
    "colab_type": "text",
    "id": "_GFYiI1tVu0M"
   },
   "source": [
    "<table>\n",
    "    <tr>\n",
    "        <th>(a)</th>\n",
    "        <th colspan=\"2\">D=0</th>\n",
    "        <th colspan=\"2\">D=1</th>\n",
    "    </tr>\n",
    "    <tr>\n",
    "        <th></th>\n",
    "        <th>B=0</th>\n",
    "        <th>B=1</th>\n",
    "        <th>B=0</th>\n",
    "        <th>B=1</th>\n",
    "    </tr>\n",
    "    <tr>\n",
    "        <td>X=M1</td>\n",
    "        <td>0.1*</td>\n",
    "        <td>0.5</td>\n",
    "        <td>0.4</td>\n",
    "        <td>0.2*</td>\n",
    "    </tr>\n",
    "    <tr>\n",
    "        <td>X=M2</td>\n",
    "        <td>0.5</td>\n",
    "        <td>0.1*</td>\n",
    "        <td>0.2*</td>\n",
    "        <td>0.4</td>\n",
    "    </tr>\n",
    "</table>"
   ]
  },
  {
   "cell_type": "markdown",
   "metadata": {
    "colab_type": "text",
    "id": "O-soGb7_Vxss"
   },
   "source": [
    "$D=1$: gambler is drunk $P(D=1) = 0.5$\n",
    "\n",
    "$B=1$: blinking machine $P(B=1) = 0.5$\n",
    "\n",
    "$X = d \\oplus b$: choice of arm"
   ]
  },
  {
   "cell_type": "markdown",
   "metadata": {
    "colab_type": "text",
    "id": "blro6Lv8XmMt"
   },
   "source": [
    "\\* indicates the user preference. It can be seen that the gambler has a very low chance of winning given these preferences."
   ]
  },
  {
   "cell_type": "markdown",
   "metadata": {
    "colab_type": "text",
    "id": "wt8r8Q6cXpb9"
   },
   "source": [
    "The DAG of the model would look something like this"
   ]
  },
  {
   "cell_type": "markdown",
   "metadata": {
    "colab_type": "text",
    "id": "srpv723tXxpP"
   },
   "source": [
    "![Model DAG](https://github.com/Rdn03/CausalBandits/blob/preliminary_results/images/DAG.png?raw=true)"
   ]
  },
  {
   "cell_type": "code",
   "execution_count": 0,
   "metadata": {
    "colab": {},
    "colab_type": "code",
    "collapsed": true,
    "id": "htaJwSAaDc6S"
   },
   "outputs": [],
   "source": [
    "import sys\n",
    "sys.path.append('/Library/Frameworks/Python.framework/Versions/3.7/lib/python3.7/site-packages')\n",
    "from pyro import sample, condition, do, infer\n",
    "import pyro.distributions as dist\n",
    "from torch import tensor\n",
    "from pyro.poutine import trace\n",
    "from csv import writer\n",
    "import pandas as pd\n",
    "from numpy import ones\n",
    "import numpy as np\n",
    "import matplotlib.pyplot as plt"
   ]
  },
  {
   "cell_type": "code",
   "execution_count": 0,
   "metadata": {
    "colab": {},
    "colab_type": "code",
    "collapsed": true,
    "id": "lJDxleqnDh4R"
   },
   "outputs": [],
   "source": [
    "class Game(object):\n",
    "    \"\"\"\n",
    "    Simulation of the game\n",
    "    drunk_pr: probability of a gambler being drunk\n",
    "    blink_pr: probability that machine would be blinking\n",
    "    payout_pr: probability of payout\n",
    "    policy: an object of the Policy class containing two methods choose_arm() and update(Y)\n",
    "    T: number of trials\n",
    "    \"\"\"\n",
    "    def __init__(self, drunk_pr, blink_pr, payout_pr, policy=None, T=1000):\n",
    "        self.drunk_pr = drunk_pr\n",
    "        self.blink_pr = blink_pr\n",
    "        self.payout_pr = payout_pr\n",
    "        self.policy = policy\n",
    "        self.T = T\n",
    "        self.chosen_arm = 0\n",
    "        \n",
    "        # Save the arms chosen and rewards  \n",
    "        self.logs = []\n",
    "        \n",
    "        # information about drunk and blinking\n",
    "        self.config = [0.] * len(self.payout_pr[0])\n",
    "        self.current_config = -1\n",
    "        \n",
    "        # cumulative regret \n",
    "        self.cumulative_regret = []\n",
    "        \n",
    "        # Choosing the best arm \n",
    "        self.best_arm_prob = []\n",
    "        self.best_arm_count = 0\n",
    "    \n",
    "    \n",
    "    def fb(self):\n",
    "        return sample(\"b\", dist.Bernoulli(self.blink_pr))\n",
    "    \n",
    "    def fd(self):\n",
    "        return sample(\"d\", dist.Bernoulli(self.drunk_pr))\n",
    "\n",
    "    def fx(self,b, d):\n",
    "        return sample(\"x\", dist.Delta(tensor(float(int(b) ^ int(d))))) \n",
    "\n",
    "    def fy(self,x, b, d):\n",
    "        return sample(\"y\", dist.Bernoulli(self.payout_pr[int(x)][int(b + 2*d)]))\n",
    "\n",
    "    def model(self):\n",
    "        b = self.fb()\n",
    "        d = self.fd()\n",
    "        x = self.fx(b, d)\n",
    "        y = self.fy(x, b, d)\n",
    "        return y\n",
    "    \n",
    "    # helper function to export the logs for future use\n",
    "    def export(self, file=\"logs.csv\"):\n",
    "        with open(file,'w', newline='') as out:\n",
    "            csv_out=writer(out)\n",
    "            csv_out.writerow(['x', 'y'])\n",
    "            for row in self.logs:\n",
    "                csv_out.writerow(row)\n",
    "    \n",
    "    def play(self):\n",
    "        for _ in range(self.T):\n",
    "            if self.policy == None:\n",
    "                trace_handler = trace(self.model)\n",
    "                tr = trace_handler.get_trace()\n",
    "                self.current_config = int(tr.nodes[\"b\"][\"value\"].item() + 2 * tr.nodes[\"d\"][\"value\"].item()) \n",
    "                self.config[self.current_config] += 1\n",
    "                rec = (tr.nodes[\"x\"][\"value\"].item(), tr.nodes[\"y\"][\"value\"].item())\n",
    "                self.logs.append(rec)\n",
    "            else:\n",
    "                # Generate the context/environment\n",
    "                context = {}\n",
    "                context[\"b\"] = self.fb()\n",
    "                context[\"d\"] = self.fd()\n",
    "                self.current_config = int(context[\"b\"] + 2 * context[\"d\"])\n",
    "                self.config[self.current_config] += 1 \n",
    "                \n",
    "                # Use the appropriat policy to choose which arm needs to played next\n",
    "                self.chosen_arm = self.policy.choose_arm(context)\n",
    "                \n",
    "                # intervene and pull\n",
    "                int_model = do(condition(self.model, {\"b\": context[\"b\"], \"d\": context[\"d\"]}), {'x': self.chosen_arm})\n",
    "                \n",
    "                # get trace\n",
    "                trace_handler = trace(int_model)\n",
    "                tr = trace_handler.get_trace()\n",
    "                rec = (self.chosen_arm.item(), tr.nodes[\"y\"][\"value\"].item())\n",
    "                \n",
    "                # save arm and payout for the trial \n",
    "                self.logs.append(rec)\n",
    "                \n",
    "                # update policy\n",
    "                self.policy.update(tr.nodes[\"y\"][\"value\"])\n",
    "                \n",
    "            # update stats\n",
    "            self.cumulative_regret.append(self.regret())\n",
    "            self.best_arm_prob.append(self.best_arm())\n",
    "    \n",
    "    def regret(self):\n",
    "        reward_sum = sum([el[1] for el in self.logs])\n",
    "        return sum(self.payout_pr.max(dim=0)[0] * tensor(self.config)) - reward_sum\n",
    "    \n",
    "    def best_arm(self):\n",
    "        # get the best arm for the current context\n",
    "        best_val = np.argmax(self.payout_pr, axis=0)[self.current_config]\n",
    "        self.best_arm_count += int(best_val == self.chosen_arm)\n",
    "        return self.best_arm_count/len(self.logs)\n",
    "      \n",
    "    \n",
    "    def stats(self):\n",
    "        X_Y = []\n",
    "        for k in [0.0, 1.0]:\n",
    "            X_Y.append(len([self.logs[i][1] for i in range(len(self.logs)) if (self.logs[i][1] == 1.0  and self.logs[i][0] == k)])\\\n",
    "                        /len([el[0] for el in self.logs if el[0] == k]))\n",
    "\n",
    "        stats = [X_Y[0],X_Y[1]]\n",
    "\n",
    "\n",
    "        return stats"
   ]
  },
  {
   "cell_type": "markdown",
   "metadata": {
    "colab_type": "text",
    "id": "Tsn5pjpWY4IF"
   },
   "source": [
    "# Drunk Gambler  \n",
    "The gamblers play according to their natural predilections"
   ]
  },
  {
   "cell_type": "code",
   "execution_count": 0,
   "metadata": {
    "colab": {},
    "colab_type": "code",
    "collapsed": true,
    "id": "rr0PkGshIoWu"
   },
   "outputs": [],
   "source": [
    "drunk_pr = tensor(0.5)\n",
    "blink_pr = tensor(0.5)\n",
    "payout_pr = tensor([[0.1, 0.5, 0.4, 0.2],\n",
    "                    [0.5, 0.1, 0.2, 0.4]])\n",
    "trials = 1000\n",
    "N = 100 # Monte Carlo simulations\n",
    "n_bandits = 2"
   ]
  },
  {
   "cell_type": "code",
   "execution_count": 0,
   "metadata": {
    "colab": {},
    "colab_type": "code",
    "collapsed": true,
    "id": "625bnnWtK_2a"
   },
   "outputs": [],
   "source": [
    "drunk_regret = tensor([0.] * trials)\n",
    "drunk_results = tensor([0.] * n_bandits)\n",
    "for _ in range(N):\n",
    "    game = Game(drunk_pr=drunk_pr, blink_pr=blink_pr, payout_pr=payout_pr, T=trials, policy=None)\n",
    "    game.play()\n",
    "    drunk_regret += tensor(game.cumulative_regret)\n",
    "    drunk_results += tensor(game.stats())"
   ]
  },
  {
   "cell_type": "markdown",
   "metadata": {
    "colab_type": "text",
    "id": "Bm-wxH90ZCoJ"
   },
   "source": [
    "On running a simulation of the drunk gambler playing based on this new set up, we would get the following results"
   ]
  },
  {
   "cell_type": "code",
   "execution_count": 5,
   "metadata": {
    "colab": {
     "base_uri": "https://localhost:8080/",
     "height": 111
    },
    "colab_type": "code",
    "id": "X_oStHNCNJxB",
    "outputId": "3047dd6c-5729-40e0-9521-8e39d0a67778"
   },
   "outputs": [
    {
     "data": {
      "text/html": [
       "<div>\n",
       "<style scoped>\n",
       "    .dataframe tbody tr th:only-of-type {\n",
       "        vertical-align: middle;\n",
       "    }\n",
       "\n",
       "    .dataframe tbody tr th {\n",
       "        vertical-align: top;\n",
       "    }\n",
       "\n",
       "    .dataframe thead th {\n",
       "        text-align: right;\n",
       "    }\n",
       "</style>\n",
       "<table border=\"1\" class=\"dataframe\">\n",
       "  <thead>\n",
       "    <tr style=\"text-align: right;\">\n",
       "      <th></th>\n",
       "      <th>P(Y=1|X)</th>\n",
       "    </tr>\n",
       "  </thead>\n",
       "  <tbody>\n",
       "    <tr>\n",
       "      <th>X=M1</th>\n",
       "      <td>0.149202</td>\n",
       "    </tr>\n",
       "    <tr>\n",
       "      <th>X=M2</th>\n",
       "      <td>0.150512</td>\n",
       "    </tr>\n",
       "  </tbody>\n",
       "</table>\n",
       "</div>"
      ],
      "text/plain": [
       "      P(Y=1|X)\n",
       "X=M1  0.149202\n",
       "X=M2  0.150512"
      ]
     },
     "execution_count": 5,
     "metadata": {
      "tags": []
     },
     "output_type": "execute_result"
    }
   ],
   "source": [
    "pd.DataFrame((drunk_results/N).tolist(), columns=[\"P(Y=1|X)\"], index=[\"X=M1\",\"X=M2\"])"
   ]
  },
  {
   "cell_type": "markdown",
   "metadata": {
    "colab_type": "text",
    "id": "vBF_JFxnOWuk"
   },
   "source": [
    "# Gaming Commission  \n",
    "The state decides to test if the 30% payout criterion is satisfied at this casino. This is done by choosing an arm based on a coin-flip i.e. $P(X=M_1) = P(X=M_2) = 0.5$"
   ]
  },
  {
   "cell_type": "code",
   "execution_count": 0,
   "metadata": {
    "colab": {},
    "colab_type": "code",
    "collapsed": true,
    "id": "zHoo9PAqNm2w"
   },
   "outputs": [],
   "source": [
    "class Policy(object):\n",
    "    def __init__(self):\n",
    "        pass\n",
    "    def update(self, Y):\n",
    "        pass\n",
    "    def choose_arm(self, context=None):\n",
    "        pass"
   ]
  },
  {
   "cell_type": "code",
   "execution_count": 0,
   "metadata": {
    "colab": {},
    "colab_type": "code",
    "collapsed": true,
    "id": "BKYQINplObAz"
   },
   "outputs": [],
   "source": [
    "class RandomSampler(Policy):\n",
    "    \"\"\"\n",
    "    Implementation of a Random Sampler where choosing each arm has equal probability\n",
    "    n_bandits: Number of slot machines\n",
    "  \"\"\"\n",
    "    def __init__(self, n_bandits):\n",
    "        self.n_bandits = n_bandits\n",
    "        self.params = [{\"w\": 0, \"l\": 0} for _ in range(self.n_bandits)]\n",
    "        self.arm_selected = 0\n",
    "        \n",
    "    def update(self, Y):\n",
    "        if Y == 1:\n",
    "            self.params[self.arm_selected][\"w\"] += 1\n",
    "        else:\n",
    "            self.params[self.arm_selected][\"l\"] += 1\n",
    "            \n",
    "    def choose_arm(self, context=None):\n",
    "        # each arm has an equal chance of being selected\n",
    "        probs = [1/self.n_bandits] * self.n_bandits\n",
    "        self.arm_selected = sample(\"arm_selected\", dist.Categorical(tensor(probs)))\n",
    "        return self.arm_selected"
   ]
  },
  {
   "cell_type": "code",
   "execution_count": 0,
   "metadata": {
    "colab": {},
    "colab_type": "code",
    "collapsed": true,
    "id": "Km_kdEgYOoHb"
   },
   "outputs": [],
   "source": [
    "commission_regret = tensor([0.] * trials)\n",
    "commission_best_arm = tensor([0.] * trials)\n",
    "commission_results = tensor([0.] * n_bandits)\n",
    "for _ in range(N):\n",
    "    game = Game(drunk_pr=drunk_pr, blink_pr=blink_pr, payout_pr=payout_pr, T=trials, policy=RandomSampler(n_bandits=2))\n",
    "    game.play()\n",
    "    commission_regret += tensor(game.cumulative_regret)\n",
    "    commission_best_arm += tensor(game.best_arm_prob)\n",
    "    commission_results += tensor(game.stats())\n",
    "    "
   ]
  },
  {
   "cell_type": "markdown",
   "metadata": {
    "colab_type": "text",
    "id": "2TE1_fnbPu2i"
   },
   "source": [
    "On running a simulation of the gaming commission verifying the 30% payout, we would get the following results"
   ]
  },
  {
   "cell_type": "code",
   "execution_count": 9,
   "metadata": {
    "colab": {
     "base_uri": "https://localhost:8080/",
     "height": 111
    },
    "colab_type": "code",
    "id": "kIs0XPYSPvON",
    "outputId": "ef584de4-cedc-4a54-9592-642133277aa9"
   },
   "outputs": [
    {
     "data": {
      "text/html": [
       "<div>\n",
       "<style scoped>\n",
       "    .dataframe tbody tr th:only-of-type {\n",
       "        vertical-align: middle;\n",
       "    }\n",
       "\n",
       "    .dataframe tbody tr th {\n",
       "        vertical-align: top;\n",
       "    }\n",
       "\n",
       "    .dataframe thead th {\n",
       "        text-align: right;\n",
       "    }\n",
       "</style>\n",
       "<table border=\"1\" class=\"dataframe\">\n",
       "  <thead>\n",
       "    <tr style=\"text-align: right;\">\n",
       "      <th></th>\n",
       "      <th>P(Y=1|X)</th>\n",
       "    </tr>\n",
       "  </thead>\n",
       "  <tbody>\n",
       "    <tr>\n",
       "      <th>X=M1</th>\n",
       "      <td>0.299860</td>\n",
       "    </tr>\n",
       "    <tr>\n",
       "      <th>X=M2</th>\n",
       "      <td>0.298256</td>\n",
       "    </tr>\n",
       "  </tbody>\n",
       "</table>\n",
       "</div>"
      ],
      "text/plain": [
       "      P(Y=1|X)\n",
       "X=M1  0.299860\n",
       "X=M2  0.298256"
      ]
     },
     "execution_count": 9,
     "metadata": {
      "tags": []
     },
     "output_type": "execute_result"
    }
   ],
   "source": [
    "pd.DataFrame((commission_results/N).tolist(), columns=[\"P(Y=1|X)\"], index=[\"X=M1\",\"X=M2\"])"
   ]
  },
  {
   "cell_type": "markdown",
   "metadata": {
    "colab_type": "text",
    "id": "TWYo3-T5ZSUf"
   },
   "source": [
    "It can be seen from the results that:\n",
    "    \n",
    "- The two arms are indistinguishable.\n",
    "\n",
    "- A user choosing based on natural predilections has a lower chance of winning.\n",
    "\n",
    "- The gaming commission conclude that the 30% criteria has been met."
   ]
  },
  {
   "cell_type": "markdown",
   "metadata": {
    "colab_type": "text",
    "id": "IzdKbkLlP0R6"
   },
   "source": [
    "# Thompson Sampling  \n",
    "Thompson sampling is a very well known algorithm used widely in multi-class bandit problems."
   ]
  },
  {
   "cell_type": "code",
   "execution_count": 0,
   "metadata": {
    "colab": {},
    "colab_type": "code",
    "collapsed": true,
    "id": "b0rIKqnoPysr"
   },
   "outputs": [],
   "source": [
    "class ThompsonSampler(Policy):\n",
    "    \"\"\"\n",
    "    Implementation of Causal Thompson sampling \n",
    "    n_bandits: Number of slot machines\n",
    "  \"\"\"\n",
    "    def __init__(self, n_bandits):\n",
    "        self.n_bandits = n_bandits\n",
    "        # keep track of rewards for each arm\n",
    "        self.params = [{\"a\": 1, \"b\": 1} for _ in range(self.n_bandits)]\n",
    "        self.arm_selected = 0\n",
    "    \n",
    "    def update(self, Y):\n",
    "        # update parameters based on payout\n",
    "        if Y == 1:\n",
    "            self.params[self.arm_selected][\"a\"] += 1\n",
    "        else:\n",
    "            self.params[self.arm_selected][\"b\"] += 1\n",
    "            \n",
    "    def choose_arm(self, context=None):\n",
    "        # determine weights based on past rewards\n",
    "        probs = [el[\"a\"]/(el[\"a\"] + el[\"b\"]) for el in self.params]\n",
    "        \n",
    "        # sample arm from a categorical distribution\n",
    "        self.arm_selected = sample(\"arm_selected\", dist.Categorical(tensor(probs)))\n",
    "        return self.arm_selected"
   ]
  },
  {
   "cell_type": "code",
   "execution_count": 0,
   "metadata": {
    "colab": {},
    "colab_type": "code",
    "collapsed": true,
    "id": "laDcGOzWP5pr"
   },
   "outputs": [],
   "source": [
    "thompson_regret = tensor([0.] * trials)\n",
    "thompson_best_arm = tensor([0.] * trials)\n",
    "thompson_results = tensor([0.] * n_bandits)\n",
    "for _ in range(N):\n",
    "    game = Game(drunk_pr=drunk_pr, blink_pr=blink_pr, payout_pr=payout_pr, T=trials, policy=ThompsonSampler(n_bandits=2))\n",
    "    game.play()\n",
    "    thompson_regret += tensor(game.cumulative_regret)\n",
    "    thompson_best_arm += tensor(game.best_arm_prob)\n",
    "    thompson_results += tensor(game.stats())"
   ]
  },
  {
   "cell_type": "code",
   "execution_count": 12,
   "metadata": {
    "colab": {
     "base_uri": "https://localhost:8080/",
     "height": 111
    },
    "colab_type": "code",
    "id": "SleDQew8QP1r",
    "outputId": "a0cff8bc-0476-412f-8e0b-e1af0e761514"
   },
   "outputs": [
    {
     "data": {
      "text/html": [
       "<div>\n",
       "<style scoped>\n",
       "    .dataframe tbody tr th:only-of-type {\n",
       "        vertical-align: middle;\n",
       "    }\n",
       "\n",
       "    .dataframe tbody tr th {\n",
       "        vertical-align: top;\n",
       "    }\n",
       "\n",
       "    .dataframe thead th {\n",
       "        text-align: right;\n",
       "    }\n",
       "</style>\n",
       "<table border=\"1\" class=\"dataframe\">\n",
       "  <thead>\n",
       "    <tr style=\"text-align: right;\">\n",
       "      <th></th>\n",
       "      <th>P(Y=1|X)</th>\n",
       "    </tr>\n",
       "  </thead>\n",
       "  <tbody>\n",
       "    <tr>\n",
       "      <th>X=M1</th>\n",
       "      <td>0.297026</td>\n",
       "    </tr>\n",
       "    <tr>\n",
       "      <th>X=M2</th>\n",
       "      <td>0.301424</td>\n",
       "    </tr>\n",
       "  </tbody>\n",
       "</table>\n",
       "</div>"
      ],
      "text/plain": [
       "      P(Y=1|X)\n",
       "X=M1  0.297026\n",
       "X=M2  0.301424"
      ]
     },
     "execution_count": 12,
     "metadata": {
      "tags": []
     },
     "output_type": "execute_result"
    }
   ],
   "source": [
    "pd.DataFrame((thompson_results/N).tolist(), columns=[\"P(Y=1|X)\"], index=[\"X=M1\",\"X=M2\"])"
   ]
  },
  {
   "cell_type": "markdown",
   "metadata": {
    "colab_type": "text",
    "id": "ExLXLOeiZXso"
   },
   "source": [
    "As we can see , Thompson sampling performs no better than a Random sampler"
   ]
  },
  {
   "cell_type": "markdown",
   "metadata": {
    "colab_type": "text",
    "id": "0597h0zuQW1h"
   },
   "source": [
    "# Causal Thompson sampling  \n",
    "This is a new sampling method developed to account for unobserved confounders while sampling. Thompson sampling does not perform particularly well when there are unobserved confounders."
   ]
  },
  {
   "cell_type": "markdown",
   "metadata": {
    "colab_type": "text",
    "id": "3Vma0FNbaEmZ"
   },
   "source": [
    "## How Causal Thompson sampling works  \n",
    "A causal thompson sampler takes into account the users intuition to play an arm and suggests an introspection comparing the odds of winning following his intuition or going against it. It considers using the rule that compares the average payouts obtained by players for choosing in favour or against their intuition. This procedure is called regret decision criteria. We exploit the fact that a superior arm will emerge quickly by weighting the favorable arm by making it more likely to be chosen early in the learning process."
   ]
  },
  {
   "cell_type": "code",
   "execution_count": 0,
   "metadata": {
    "colab": {},
    "colab_type": "code",
    "collapsed": true,
    "id": "ppDaOJA6QSP5"
   },
   "outputs": [],
   "source": [
    "class CausalThompsonSampler(Policy):\n",
    "    \"\"\"\n",
    "        Implementation of Causal Thompson sampling \n",
    "        n_bandits: Number of slot machines\n",
    "        payout_pr: Probability of payout\n",
    "    \"\"\"\n",
    "    def __init__(self, n_bandits, payout_pr):\n",
    "        self.n_bandits = n_bandits\n",
    "        \n",
    "        # success and failure counts of playing an arm (Observation)\n",
    "        self.s = ones((2,2))\n",
    "        self.f = ones((2,2))\n",
    "      \n",
    "        # arm selected based on the causal thompson policy\n",
    " \n",
    "        self.arm_selected = 0\n",
    "        \n",
    "        # arm based on intuition\n",
    "        self.x_intuition = 0\n",
    "        \n",
    "         # P(Y=1|X=0, Z=0) * 100 , Z is the intuition \n",
    "        self.s[0][0] = (payout_pr[0][0] + payout_pr[0][3]) * 100/2 \n",
    "        \n",
    "        # P(Y=1|X=1, Z=1) * 100 \n",
    "        self.s[1][1] = (payout_pr[1][1] + payout_pr[1][2]) * 100/2\n",
    "        \n",
    "        # P(Y=0|X=0, Z=0) * 100 \n",
    "        self.f[0][0] = (1 - payout_pr[0][0] + 1 - payout_pr[0][3]) * 100/ 2\n",
    "        \n",
    "        # P(Y=0|X=1, Z=1) * 100 \n",
    "        self.f[1][1] = (1 - payout_pr[1][1] + 1 - payout_pr[1][2]) * 100/2   \n",
    "       \n",
    "        # P(Y=1|X) Probability of payout for each arm by observation \n",
    "        self.p_Y_X = [self.s[i][i]/(self.s[i][i] + self.f[i][i]) for i in range(self.n_bandits)]\n",
    "        \n",
    "        # updated probability of payout for each arm \n",
    "        self.theta = [0, 0]   \n",
    "        \n",
    "        \n",
    "    def update(self, reward):\n",
    "        # update the count of payouts\n",
    "        self.s[self.x_intuition][self.arm_selected] += int(reward)\n",
    "        self.f[self.x_intuition][self.arm_selected] += 1 - int(reward)   \n",
    "  \n",
    "    def choose_arm(self, context): \n",
    "        \n",
    "        # arm to be played according to players natural predilection\n",
    "        self.x_intuition = int(context['b']) ^ int(context['d'])\n",
    "        \n",
    "        # counter intuition, if x is 0, x' is 1 else 0\n",
    "        x_prime = 1 - self.x_intuition\n",
    "        \n",
    "        # P(Y=1|do(X=x)) \n",
    "        p_Y_doX_Z = [[self.s[i][0]/(self.s[i][0] + self.f[i][0]), self.s[i][1]/(self.s[i][1] + self.f[i][1])] for i in range(self.n_bandits)] \n",
    "\n",
    "        # E(YX=x' |X = x) estimated payout for counter intuition\n",
    "        Q1 = p_Y_doX_Z[self.x_intuition][x_prime]\n",
    "        \n",
    "        # P(y|X = x) , estimated payout for intuiton\n",
    "        Q2 = self.p_Y_X[self.x_intuition] \n",
    "        \n",
    "        # ETT\n",
    "        bias = abs(Q1- Q2)\n",
    "         \n",
    "        # initialize weights\n",
    "        w = ones(2)\n",
    "        \n",
    "        if np.isnan(bias):\n",
    "            weight = 1\n",
    "        else:\n",
    "            weight = 1 - bias\n",
    "        \n",
    "        # choose arm to bias        \n",
    "        if Q1 > Q2:\n",
    "            w[self.x_intuition] = weight\n",
    "        else:\n",
    "            w[x_prime] = weight\n",
    "        \n",
    "        # choose arm\n",
    "        self.theta = [sample(\"theta_0\", dist.Beta(self.s[self.x_intuition][0], self.f[self.x_intuition][0])) * w[0],  sample(\"theta_1\", dist.Beta(self.s[self.x_intuition][1], self.f[self.x_intuition][1])) * w[1]]\n",
    "        self.arm_selected = self.theta.index(max(self.theta))\n",
    "        return tensor(self.arm_selected)"
   ]
  },
  {
   "cell_type": "code",
   "execution_count": 0,
   "metadata": {
    "colab": {},
    "colab_type": "code",
    "collapsed": true,
    "id": "uQSLh9P8Qk3r"
   },
   "outputs": [],
   "source": [
    "causal_regret = tensor([0.] * trials)\n",
    "causal_best_arm = tensor([0.] * trials)\n",
    "causal_results = tensor([0.] * n_bandits)\n",
    "for _ in range(N):\n",
    "    game = Game(drunk_pr=drunk_pr, blink_pr=blink_pr, payout_pr=payout_pr, T=trials, policy=CausalThompsonSampler(n_bandits=2, payout_pr=payout_pr))\n",
    "    game.play()\n",
    "    causal_regret += tensor(game.cumulative_regret)\n",
    "    causal_best_arm += tensor(game.best_arm_prob)\n",
    "    causal_results += tensor(game.stats())"
   ]
  },
  {
   "cell_type": "markdown",
   "metadata": {
    "colab_type": "text",
    "id": "4uRbwezxaPtm"
   },
   "source": [
    "On running simulations of Causal Thompson sampling, we get the following results\n"
   ]
  },
  {
   "cell_type": "code",
   "execution_count": 15,
   "metadata": {
    "colab": {
     "base_uri": "https://localhost:8080/",
     "height": 111
    },
    "colab_type": "code",
    "id": "5td_AZS4RP2X",
    "outputId": "4fd2726e-fe4a-4fbb-a473-f4a1c46b72d3"
   },
   "outputs": [
    {
     "data": {
      "text/html": [
       "<div>\n",
       "<style scoped>\n",
       "    .dataframe tbody tr th:only-of-type {\n",
       "        vertical-align: middle;\n",
       "    }\n",
       "\n",
       "    .dataframe tbody tr th {\n",
       "        vertical-align: top;\n",
       "    }\n",
       "\n",
       "    .dataframe thead th {\n",
       "        text-align: right;\n",
       "    }\n",
       "</style>\n",
       "<table border=\"1\" class=\"dataframe\">\n",
       "  <thead>\n",
       "    <tr style=\"text-align: right;\">\n",
       "      <th></th>\n",
       "      <th>P(Y=1|X)</th>\n",
       "    </tr>\n",
       "  </thead>\n",
       "  <tbody>\n",
       "    <tr>\n",
       "      <th>X=M1</th>\n",
       "      <td>0.452717</td>\n",
       "    </tr>\n",
       "    <tr>\n",
       "      <th>X=M2</th>\n",
       "      <td>0.449267</td>\n",
       "    </tr>\n",
       "  </tbody>\n",
       "</table>\n",
       "</div>"
      ],
      "text/plain": [
       "      P(Y=1|X)\n",
       "X=M1  0.452717\n",
       "X=M2  0.449267"
      ]
     },
     "execution_count": 15,
     "metadata": {
      "tags": []
     },
     "output_type": "execute_result"
    }
   ],
   "source": [
    "pd.DataFrame((causal_results/N).tolist(), columns=[\"P(Y=1|X)\"], index=[\"X=M1\",\"X=M2\"])"
   ]
  },
  {
   "cell_type": "markdown",
   "metadata": {
    "colab_type": "text",
    "id": "4VM4JG-WaT8s"
   },
   "source": [
    "# Results  "
   ]
  },
  {
   "cell_type": "markdown",
   "metadata": {
    "colab_type": "text",
    "id": "1ROShP4ZaWH8"
   },
   "source": [
    "Cumulative regret for each policy"
   ]
  },
  {
   "cell_type": "code",
   "execution_count": 16,
   "metadata": {
    "colab": {
     "base_uri": "https://localhost:8080/",
     "height": 295
    },
    "colab_type": "code",
    "id": "IsIlEQY0RTDu",
    "outputId": "ba0212c0-575f-4820-a23d-40a30ab12382"
   },
   "outputs": [
    {
     "data": {
      "image/png": "[encoded data removed]",
      "text/plain": [
       "<Figure size 432x288 with 1 Axes>"
      ]
     },
     "metadata": {
      "tags": []
     },
     "output_type": "display_data"
    }
   ],
   "source": [
    "plt.figure()\n",
    "plt.title(\"Cumulative regret\")\n",
    "plt.xlabel(\"# of trials\")\n",
    "plt.ylabel(\"Cumulative regret\")\n",
    "plt.plot([el.item() for el in list(drunk_regret/N)], label=\"Observational\")\n",
    "plt.plot([el.item() for el in list(commission_regret/N)], label=\"Coin Flip\")\n",
    "plt.plot([el.item() for el in list(thompson_regret/N)], label=\"TS\")\n",
    "plt.plot([el.item() for el in list(causal_regret/N)], label=\"Causal TS\")\n",
    "plt.legend()\n",
    "plt.show()"
   ]
  },
  {
   "cell_type": "markdown",
   "metadata": {
    "colab_type": "text",
    "id": "rpuQ-A8OaZYs"
   },
   "source": [
    "Probability of choosing the best arm for each policy"
   ]
  },
  {
   "cell_type": "code",
   "execution_count": 17,
   "metadata": {
    "colab": {
     "base_uri": "https://localhost:8080/",
     "height": 295
    },
    "colab_type": "code",
    "id": "bXgWfkssRYWC",
    "outputId": "ef9d636c-26d6-4a44-82b2-140e29ec7a85"
   },
   "outputs": [
    {
     "data": {
      "image/png": "[encoded data removed]",
      "text/plain": [
       "<Figure size 432x288 with 1 Axes>"
      ]
     },
     "metadata": {
      "tags": []
     },
     "output_type": "display_data"
    }
   ],
   "source": [
    "plt.figure()\n",
    "plt.axis([0,1000, 0, 1.0])\n",
    "plt.title(\"Optimal action\")\n",
    "plt.plot([el.item() for el in list(commission_best_arm/N)], label=\"Observational\")\n",
    "plt.plot([el.item() for el in list(thompson_best_arm/N)], label=\"TS\")\n",
    "plt.plot([el.item() for el in list(causal_best_arm/N)], label=\"Causal TS\")\n",
    "plt.xlabel(\"# of trials\")\n",
    "plt.ylabel(\"Probability of choosing best arm\")\n",
    "plt.legend()\n",
    "plt.show()"
   ]
  },
  {
   "cell_type": "markdown",
   "metadata": {
    "colab_type": "text",
    "id": "e409k8pPRlCu"
   },
   "source": [
    "# Policy Evaluation\n",
    "Here we try to evaluate our causal thompson policy by using the logs from thompson sampling. \n",
    "This is a scenario of offline learning where we apply counterfactual reasoning to evaluate how the other policy would behave in the given environment.  \n",
    "In order to do so, we infer the noise values (in our case the exogenous variables as we dont have any other noise) based on the X and Y (arm and reward)  \n",
    "We use the Causal Thompson Policy to identify the arm that it would choose in the given environment.\n",
    "We then condition the model on the noise variables and perform do operation on the model using the arm chosen by the Causal thompson policy.   \n",
    "We perform this operation for every timestep in the logs. We compute the difference between the expected reward that we would have attained by using causal thompson policy vs the expected reward from using thompson policy . This is called as the counterfactual regret. "
   ]
  },
  {
   "cell_type": "markdown",
   "metadata": {
    "colab_type": "text",
    "id": "rxlePtPpRokH"
   },
   "source": [
    "## Collect logs from Thompson sampling"
   ]
  },
  {
   "cell_type": "code",
   "execution_count": 0,
   "metadata": {
    "colab": {},
    "colab_type": "code",
    "collapsed": true,
    "id": "fO02PViTRnbe"
   },
   "outputs": [],
   "source": [
    "g = Game(0.5, 0.5, payout_pr, ThompsonSampler(n_bandits=2))\n",
    "g.play()\n",
    "g.export()"
   ]
  },
  {
   "cell_type": "code",
   "execution_count": 0,
   "metadata": {
    "colab": {},
    "colab_type": "code",
    "collapsed": true,
    "id": "nisJ_w2rSu49"
   },
   "outputs": [],
   "source": [
    "data = pd.DataFrame(g.logs, columns=['x', 'y'])"
   ]
  },
  {
   "cell_type": "markdown",
   "metadata": {
    "colab_type": "text",
    "id": "gWf38NgpR1Tf"
   },
   "source": [
    "## Policy Evaluator"
   ]
  },
  {
   "cell_type": "code",
   "execution_count": 0,
   "metadata": {
    "colab": {},
    "colab_type": "code",
    "collapsed": true,
    "id": "MGBck8UbR0mF"
   },
   "outputs": [],
   "source": [
    "class PolicyEvaluator(object):\n",
    "    \"\"\"\n",
    "        Implementation of Policy Evaluator \n",
    "        game: Game object that contains the model that was used to generate logs\n",
    "        logs: data frame/file containing the logs for offline learning \n",
    "        policy: the policy that will be evaluated using the logs \n",
    "    \"\"\"\n",
    "    def __init__(self, game, logs, policy=None):\n",
    "        self.game = game\n",
    "        self.logs = logs\n",
    "        self.rewards = []\n",
    "        self.chosen_arms = []\n",
    "        self.policy = policy\n",
    "        self.cumulative_regret = []\n",
    "        self.regular_regret = []\n",
    "        self.best_arm_prob = []\n",
    "        self.best_arm_count = 0\n",
    "        self.game_config = [0.] * len(self.game.payout_pr[0])\n",
    "        \n",
    "        \n",
    "        \n",
    "    def __call__(self):\n",
    "        # if we were to use the logs from a file\n",
    "        # data = pd.read_csv(self.logs) \n",
    "        \n",
    "        nrows = self.logs.shape[0]\n",
    "        \n",
    "        # for each timestep in the log data evaluate what Causal Thompson would do\n",
    "        for i in range(nrows):\n",
    "            rec = data.iloc[i, :] \n",
    "            \n",
    "            # Logs consist of X and Y, we have to infer b and d from the model\n",
    "            \n",
    "            conditioned_model = condition(self.game.model, {\"x\": tensor(rec[\"x\"]), \"y\": tensor(rec[\"y\"])})\n",
    "            posterior = infer.Importance(conditioned_model, num_samples=100).run()\n",
    "            trace = posterior()\n",
    "            b = trace.nodes[\"b\"][\"value\"]\n",
    "            d = trace.nodes[\"d\"][\"value\"]\n",
    "            \n",
    "            context = {\"b\": b, \"d\": d}\n",
    "            # the arm that the policy being evaluated would play in the given context\n",
    "            chosen_arm = self.policy.choose_arm(context)\n",
    "            \n",
    "            # simulate outcome for the chosen arm\n",
    "            model = do(condition(self.game.model, {\"b\": b, \"d\": d}), {\"x\": chosen_arm})\n",
    "            y = model()\n",
    "            \n",
    "            # update policy\n",
    "            self.policy.update(y)\n",
    "            \n",
    "            # save stats\n",
    "            self.chosen_arms.append(int(chosen_arm))\n",
    "            self.rewards.append(y)\n",
    "            \n",
    "            # estimate the probability of choosing best arm for the policy being evaluated\n",
    "            self.game_config[int(2 * context['d'] + context['b'] )] += 1\n",
    "            self.best_arm_prob.append(self.policy_best_arm(int(2 * context['d'] + context['b'] )))\n",
    "            \n",
    "            # estimate cumulative regret for the policy being evaluated\n",
    "            self.regular_regret.append(self.policy_regret())\n",
    "            \n",
    "            # estimate counterfactual regret\n",
    "            self.cumulative_regret.append(np.sum(self.rewards) - np.sum(self.logs['y'][:i])) \n",
    "    \n",
    "    def policy_regret(self):\n",
    "        return sum(self.game.payout_pr.max(dim=0)[0] * tensor(self.game_config)) - sum(self.rewards)\n",
    "    \n",
    "    def policy_best_arm(self, config):\n",
    "        # get the best arm for the current context\n",
    "        best_val = np.argmax(self.game.payout_pr, axis=0)[config]\n",
    "        self.best_arm_count += int(best_val == self.chosen_arms[-1])\n",
    "        return self.best_arm_count/len(self.rewards)\n",
    "            \n",
    "            \n",
    "            \n",
    "            \n",
    "      "
   ]
  },
  {
   "cell_type": "markdown",
   "metadata": {
    "colab_type": "text",
    "id": "CUxJiRtjg3HD"
   },
   "source": [
    "Evaluating the Causal Thompson Policy "
   ]
  },
  {
   "cell_type": "code",
   "execution_count": 0,
   "metadata": {
    "colab": {},
    "colab_type": "code",
    "collapsed": true,
    "id": "jAFcrtKFPIvA"
   },
   "outputs": [],
   "source": [
    "cf_regret = tensor([0.] * trials)\n",
    "policy_regret = tensor([0.] * trials)\n",
    "policy_best_arm = tensor([0.] * trials)\n",
    "for _ in range(10):\n",
    "    pe = PolicyEvaluator(g, data, policy=CausalThompsonSampler(n_bandits=2, payout_pr=payout_pr))\n",
    "    pe()\n",
    "    cf_regret += tensor(pe.cumulative_regret)\n",
    "    policy_best_arm += tensor(pe.best_arm_prob)\n",
    "    policy_regret += tensor(pe.regular_regret)\n",
    "    \n",
    "    "
   ]
  },
  {
   "cell_type": "markdown",
   "metadata": {
    "colab_type": "text",
    "id": "WWtRjCmoask1"
   },
   "source": [
    "The payout rates for each arm when Causal Thompson sampling is used in the environment"
   ]
  },
  {
   "cell_type": "code",
   "execution_count": 25,
   "metadata": {
    "colab": {
     "base_uri": "https://localhost:8080/",
     "height": 142
    },
    "colab_type": "code",
    "id": "7VKeMjgsTfYb",
    "outputId": "2f10def6-11ab-4500-d063-b5ccb7847de9"
   },
   "outputs": [
    {
     "data": {
      "text/html": [
       "<div>\n",
       "<style scoped>\n",
       "    .dataframe tbody tr th:only-of-type {\n",
       "        vertical-align: middle;\n",
       "    }\n",
       "\n",
       "    .dataframe tbody tr th {\n",
       "        vertical-align: top;\n",
       "    }\n",
       "\n",
       "    .dataframe thead th {\n",
       "        text-align: right;\n",
       "    }\n",
       "</style>\n",
       "<table border=\"1\" class=\"dataframe\">\n",
       "  <thead>\n",
       "    <tr style=\"text-align: right;\">\n",
       "      <th></th>\n",
       "      <th>P(Y=1|X)</th>\n",
       "    </tr>\n",
       "    <tr>\n",
       "      <th>X</th>\n",
       "      <th></th>\n",
       "    </tr>\n",
       "  </thead>\n",
       "  <tbody>\n",
       "    <tr>\n",
       "      <th>0</th>\n",
       "      <td>0.406571</td>\n",
       "    </tr>\n",
       "    <tr>\n",
       "      <th>1</th>\n",
       "      <td>0.417154</td>\n",
       "    </tr>\n",
       "  </tbody>\n",
       "</table>\n",
       "</div>"
      ],
      "text/plain": [
       "   P(Y=1|X)\n",
       "X          \n",
       "0  0.406571\n",
       "1  0.417154"
      ]
     },
     "execution_count": 25,
     "metadata": {
      "tags": []
     },
     "output_type": "execute_result"
    }
   ],
   "source": [
    "pd.DataFrame(list(zip(pe.chosen_arms, [el.int().item() for el in pe.rewards])), columns=['X', 'P(Y=1|X)']).groupby(['X']).mean()"
   ]
  },
  {
   "cell_type": "markdown",
   "metadata": {
    "colab_type": "text",
    "id": "NcMyK0iGbpDn"
   },
   "source": [
    "Total counterfactual regret - difference between expected rewards from thompson sampling vs causal thompson"
   ]
  },
  {
   "cell_type": "code",
   "execution_count": 0,
   "metadata": {
    "colab": {
     "base_uri": "https://localhost:8080/",
     "height": 34
    },
    "colab_type": "code",
    "id": "UeBIw4DvUk_D",
    "outputId": "6962dfa6-0af6-4623-f497-a74c05414f19"
   },
   "outputs": [
    {
     "data": {
      "text/plain": [
       "171.0"
      ]
     },
     "execution_count": 29,
     "metadata": {
      "tags": []
     },
     "output_type": "execute_result"
    }
   ],
   "source": [
    "\n",
    "np.sum(pe.rewards) - np.sum(data['y'])"
   ]
  },
  {
   "cell_type": "markdown",
   "metadata": {
    "colab_type": "text",
    "id": "dEaAPVE5Utc2"
   },
   "source": [
    "## Cumulative Counterfactual Regret  \n",
    "\n",
    "The increase in the cumulative counterfactual regret with the number of trials is expected as the causal thompson policy is able to identify the best arm and in turn increases the expected payout for using it vs standard thompson sampling"
   ]
  },
  {
   "cell_type": "code",
   "execution_count": 22,
   "metadata": {
    "colab": {
     "base_uri": "https://localhost:8080/",
     "height": 312
    },
    "colab_type": "code",
    "id": "igMtLxiEUwms",
    "outputId": "c4d99da4-beab-4955-b55f-abb403f7872e"
   },
   "outputs": [
    {
     "data": {
      "text/plain": [
       "Text(0, 0.5, 'Cumulative regret')"
      ]
     },
     "execution_count": 22,
     "metadata": {
      "tags": []
     },
     "output_type": "execute_result"
    },
    {
     "data": {
      "image/png": "[encoded data removed]",
      "text/plain": [
       "<Figure size 432x288 with 1 Axes>"
      ]
     },
     "metadata": {
      "tags": []
     },
     "output_type": "display_data"
    }
   ],
   "source": [
    "plt.title(\"Cumulative Counterfactual regret\")\n",
    "plt.plot([el.item() for el in list(cf_regret/10)])\n",
    "plt.xlabel(\"# of trials\")\n",
    "plt.ylabel(\"Cumulative regret\")"
   ]
  },
  {
   "cell_type": "markdown",
   "metadata": {
    "colab_type": "text",
    "id": "n-TL7iKcwsRb"
   },
   "source": [
    "## Comparison of Cumulative regret for Causal Thompson Policy\n",
    "\n",
    "The cumulative regret in the offline learning scenario is compared to the online learning setting.\n",
    "In our case the regret is almost comparable.   \n",
    "(The difference is due lesser number of MC simulations that were used for offline learning since inferring noise took a long time to run for each iteration)\n"
   ]
  },
  {
   "cell_type": "code",
   "execution_count": 23,
   "metadata": {
    "colab": {
     "base_uri": "https://localhost:8080/",
     "height": 295
    },
    "colab_type": "code",
    "id": "jDcpBESvPDA1",
    "outputId": "19529040-cb65-47d0-d58b-d9e6e835a34e"
   },
   "outputs": [
    {
     "data": {
      "image/png": "[encoded data removed]",
      "text/plain": [
       "<Figure size 432x288 with 1 Axes>"
      ]
     },
     "metadata": {
      "tags": []
     },
     "output_type": "display_data"
    }
   ],
   "source": [
    "plt.figure()\n",
    "plt.title(\"Cumulative regret\")\n",
    "plt.xlabel(\"# of trials\")\n",
    "plt.ylabel(\"Cumulative regret\")\n",
    "plt.plot([el.item() for el in list(policy_regret/N)], label=\"Counterfactual Causal TS\")\n",
    "plt.plot([el.item() for el in list(causal_regret/N)], label=\"Causal TS\")\n",
    "plt.legend()\n",
    "plt.show()"
   ]
  },
  {
   "cell_type": "markdown",
   "metadata": {
    "colab_type": "text",
    "id": "Sl_AGDxvxTAU"
   },
   "source": [
    "## Comparison of Optimal action for Causal Thompson  Sampling  \n",
    "The probability of choosing the best arm at each time step is compared for Causal Thompson sampling in the online and Offline scenarios.\n",
    "As we can see even in the offline setting the policy is able to learn very quickly. "
   ]
  },
  {
   "cell_type": "code",
   "execution_count": 24,
   "metadata": {
    "colab": {
     "base_uri": "https://localhost:8080/",
     "height": 295
    },
    "colab_type": "code",
    "id": "vY3pzUUprx7E",
    "outputId": "42f51f36-2dc2-45dd-ced5-2dacf3522252"
   },
   "outputs": [
    {
     "data": {
      "image/png": "[encoded data removed]",
      "text/plain": [
       "<Figure size 432x288 with 1 Axes>"
      ]
     },
     "metadata": {
      "tags": []
     },
     "output_type": "display_data"
    }
   ],
   "source": [
    "plt.figure()\n",
    "plt.axis([0,1000, 0.5, 1.0])\n",
    "plt.title(\"Optimal action\")\n",
    "plt.plot([el.item() for el in list(causal_best_arm/N)], label=\"Causal TS\")\n",
    "plt.plot([el.item() for el in list(policy_best_arm/10)], label = \"Counterfactual Causal TS\")\n",
    "plt.xlabel(\"# of trials\")\n",
    "plt.ylabel(\"Probability of choosing best arm\")\n",
    "plt.legend()\n",
    "plt.show()"
   ]
  },
  {
   "cell_type": "markdown",
   "metadata": {
    "colab_type": "text",
    "id": "7eSnBwYcbw09"
   },
   "source": [
    "# Key Learnings  \n",
    "1) Understanding of multi-armed bandit problems\n",
    "\n",
    "2) Understanding of Thompson sampling and its use in developing an optimal strategy\n",
    "\n",
    "3) Effect of Thompson sampling in presence of unobserved confounders\n",
    "\n",
    "4) Viewing the multi-armed bandit problem as a causal one\n",
    "\n",
    "5) Performing counterfactual reasoning using Causal Thompson sampling \n",
    "\n",
    "6) Using counterfactual reasoning to perform Offline learning and evaluate the performance of Causal Thompson sampling over Thompson sampling \n",
    "\n",
    "\n"
   ]
  },
  {
   "cell_type": "markdown",
   "metadata": {
    "colab_type": "text",
    "id": "8HsLfLZ2x6U7"
   },
   "source": [
    "# References\n",
    " [1]  [Bayesian methods for hackers , Cameron Davidson-Pilon](http://ptgmedia.pearsoncmg.com/images/9780133902839/samplepages/9780133902839.pdf)  \n",
    " [2]  https://github.com/CamDavidsonPilon/Probabilistic-Programming-and-Bayesian-Methods-for-Hackers/tree/master/Chapter6_Priorities  \n",
    " [3] [Causal Inference in Statistics  An Overview](https://ftp.cs.ucla.edu/pub/stat_ser/r350.pdf)  \n",
    " [4] [Bandits with Unobserved Confounders: A Causal Approach](https://papers.nips.cc/paper/5692-bandits-with-unobserved-confounders-a-causal-approach.pdf)  \n",
    " [5] https://github.com/ucla-csl/mabuc  \n",
    " [6] [Bandit Algorithms for Website Optimization](https://doc.lagout.org/science/0_Computer%20Science/2_Algorithms/Bandit%20Algorithms%20for%20Website%20Optimization%20%5BWhite%202013-01-03%5D.pdf)"
   ]
  }
 ],
 "metadata": {
  "accelerator": "GPU",
  "colab": {
   "name": "Final_Presentation.ipynb",
   "provenance": [],
   "version": "0.3.2"
  },
  "kernelspec": {
   "display_name": "Python 3",
   "language": "python",
   "name": "python3"
  },
  "language_info": {
   "codemirror_mode": {
    "name": "ipython",
    "version": 3
   },
   "file_extension": ".py",
   "mimetype": "text/x-python",
   "name": "python",
   "nbconvert_exporter": "python",
   "pygments_lexer": "ipython3",
   "version": "3.6.4"
  }
 },
 "nbformat": 4,
 "nbformat_minor": 1
}
