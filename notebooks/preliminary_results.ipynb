{
  "nbformat": 4,
  "nbformat_minor": 0,
  "metadata": {
    "colab": {
      "name": "Presentation.ipynb",
      "version": "0.3.2",
      "provenance": [],
      "collapsed_sections": []
    },
    "kernelspec": {
      "display_name": "Python 3",
      "language": "python",
      "name": "python3"
    },
    "language_info": {
      "codemirror_mode": {
        "name": "ipython",
        "version": 3
      },
      "file_extension": ".py",
      "mimetype": "text/x-python",
      "name": "python",
      "nbconvert_exporter": "python",
      "pygments_lexer": "ipython3",
      "version": "3.7.1"
    }
  },
  "cells": [
    {
      "cell_type": "code",
      "metadata": {
        "id": "JCkAGilQeNdx",
        "colab_type": "code",
        "outputId": "a578a27c-fdce-41c8-ab77-90024fadc3d7",
        "colab": {
          "base_uri": "https://localhost:8080/",
          "height": 157
        }
      },
      "source": [
        "!pip install pyro-ppl"
      ],
      "execution_count": 0,
      "outputs": [
        {
          "output_type": "stream",
          "text": [
            "Requirement already satisfied: pyro-ppl in /usr/local/lib/python3.6/dist-packages (0.3.4)\n",
            "Requirement already satisfied: six>=1.10.0 in /usr/local/lib/python3.6/dist-packages (from pyro-ppl) (1.12.0)\n",
            "Requirement already satisfied: tqdm>=4.31 in /usr/local/lib/python3.6/dist-packages (from pyro-ppl) (4.32.2)\n",
            "Requirement already satisfied: graphviz>=0.8 in /usr/local/lib/python3.6/dist-packages (from pyro-ppl) (0.10.1)\n",
            "Requirement already satisfied: numpy>=1.7 in /usr/local/lib/python3.6/dist-packages (from pyro-ppl) (1.16.4)\n",
            "Requirement already satisfied: contextlib2 in /usr/local/lib/python3.6/dist-packages (from pyro-ppl) (0.5.5)\n",
            "Requirement already satisfied: torch>=1.1.0 in /usr/local/lib/python3.6/dist-packages (from pyro-ppl) (1.1.0)\n",
            "Requirement already satisfied: opt-einsum>=2.3.2 in /usr/local/lib/python3.6/dist-packages (from pyro-ppl) (2.3.2)\n"
          ],
          "name": "stdout"
        }
      ]
    },
    {
      "cell_type": "markdown",
      "metadata": {
        "colab_type": "text",
        "id": "zCD3uAVVVq-1"
      },
      "source": [
        "# Bandits with unobserved confounders: A causal Approach\n",
        "\n",
        "![Mult-armed bandit](https://github.com/Rdn03/CausalBandits/raw/preliminary_results/images/Multi-armed-bandit.png)\n",
        "\n",
        "#### Akshay Suresh\n",
        "#### Ankitha Kumari Moodukudru\n",
        "#### Rutu Nanavati"
      ]
    },
    {
      "cell_type": "markdown",
      "metadata": {
        "colab_type": "text",
        "id": "2vzf2JoYVq-2"
      },
      "source": [
        "# Outline"
      ]
    },
    {
      "cell_type": "markdown",
      "metadata": {
        "colab_type": "text",
        "id": "DsvDhMedVq-3"
      },
      "source": [
        "- **The multi-armed bandit problem**\n",
        "\n",
        "- **The Greedy casino problem**\n",
        "\n",
        "- **The drunk gambler**\n",
        "\n",
        "- **Random sampling**\n",
        "\n",
        "- **Thompson sampling**\n",
        "\n",
        "- **Causal Thompson sampling**\n",
        "\n",
        "- **Results**\n",
        "\n",
        "- **Key learnings**"
      ]
    },
    {
      "cell_type": "markdown",
      "metadata": {
        "colab_type": "text",
        "id": "_QaD2BWyVq-4"
      },
      "source": [
        "## The multi-armed bandit problem"
      ]
    },
    {
      "cell_type": "markdown",
      "metadata": {
        "colab_type": "text",
        "id": "7SrEHrrVVq-5"
      },
      "source": [
        "- Consider n-slot machines $S_1,\\ S_2,\\ S_3\\ ...\\ S_n$. Given that the payouts of each slot machine is unknown, the goal is to come up with a sequence of actions that would maximize the reward.\n",
        "\n",
        "- The multi-armed bandit problem revolves around developing a strategy in learning the true payout distributions of each of these slot machines."
      ]
    },
    {
      "cell_type": "markdown",
      "metadata": {
        "colab_type": "text",
        "id": "80Sce6DFVq-8"
      },
      "source": [
        "# The Greedy casino problem"
      ]
    },
    {
      "cell_type": "markdown",
      "metadata": {
        "colab_type": "text",
        "id": "wnRzc328Vq-8"
      },
      "source": [
        "Consider this scenario, a greedy casino owner observes gamblers and their behavior so as to maximize the profits of the casino.\n",
        "\n",
        "On observation, the casino owner learns that the choice of pulling an arm (of the slot machine) is influenced by 2 factors\n",
        "\n",
        "- The gamber being drunk\n",
        "\n",
        "- The machine blinking"
      ]
    },
    {
      "cell_type": "markdown",
      "metadata": {
        "colab_type": "text",
        "id": "nCrjtaDcVq-9"
      },
      "source": [
        "**Suppose also that a new gambling law requires that casinos maintain a minimum attainable payout rate for slots of 30%. Cognizant of this new law, while still wanting to maximize profits by exploiting gamblers’ natural arm choices,\n",
        "the casino executives modify their new slots with the payout rates depicted in this table**"
      ]
    },
    {
      "cell_type": "markdown",
      "metadata": {
        "colab_type": "text",
        "id": "3X10Qbf9Vq--"
      },
      "source": [
        "<table>\n",
        "    <tr>\n",
        "        <th>(a)</th>\n",
        "        <th colspan=\"2\">D=0</th>\n",
        "        <th colspan=\"2\">D=1</th>\n",
        "    </tr>\n",
        "    <tr>\n",
        "        <th></th>\n",
        "        <th>B=0</th>\n",
        "        <th>B=1</th>\n",
        "        <th>B=0</th>\n",
        "        <th>B=1</th>\n",
        "    </tr>\n",
        "    <tr>\n",
        "        <td>X=M1</td>\n",
        "        <td>0.1*</td>\n",
        "        <td>0.5</td>\n",
        "        <td>0.4</td>\n",
        "        <td>0.2*</td>\n",
        "    </tr>\n",
        "    <tr>\n",
        "        <td>X=M2</td>\n",
        "        <td>0.5</td>\n",
        "        <td>0.1*</td>\n",
        "        <td>0.2*</td>\n",
        "        <td>0.4</td>\n",
        "    </tr>\n",
        "</table>"
      ]
    },
    {
      "cell_type": "markdown",
      "metadata": {
        "colab_type": "text",
        "id": "17S5asDzVq--"
      },
      "source": [
        "$D=1$: gambler is drunk $P(D=1) = 0.5$\n",
        "\n",
        "$B=1$: blinking machine $P(B=1) = 0.5$\n",
        "\n",
        "$X = d \\oplus b$: choice of arm"
      ]
    },
    {
      "cell_type": "markdown",
      "metadata": {
        "colab_type": "text",
        "id": "uOKpw9AzVq-_"
      },
      "source": [
        "\\* indicates the user preference. It can be seen that the gambler has a very low chance of winning given these preferences."
      ]
    },
    {
      "cell_type": "markdown",
      "metadata": {
        "colab_type": "text",
        "id": "NEeriwnGVq_A"
      },
      "source": [
        "The DAG of the model would look something like this"
      ]
    },
    {
      "cell_type": "markdown",
      "metadata": {
        "colab_type": "text",
        "id": "WAk2ft_DVq_B"
      },
      "source": [
        "![Model DAG](https://github.com/Rdn03/CausalBandits/raw/preliminary_results/images/DAG.png)"
      ]
    },
    {
      "cell_type": "code",
      "metadata": {
        "colab_type": "code",
        "id": "UkuVh_1uVq_C",
        "colab": {}
      },
      "source": [
        "from pyro import distributions as dist\n",
        "from torch import tensor\n",
        "from pyro import sample, do\n",
        "import numpy as np\n",
        "from numpy import ones, zeros, array, log, argmax\n",
        "from matplotlib.pyplot import hist\n",
        "import matplotlib.pyplot as plt\n",
        "from scipy.stats import beta\n",
        "from pyro import set_rng_seed\n",
        "from pandas import DataFrame"
      ],
      "execution_count": 0,
      "outputs": []
    },
    {
      "cell_type": "code",
      "metadata": {
        "colab_type": "code",
        "id": "TxwMrT2zVq_G",
        "colab": {}
      },
      "source": [
        "set_rng_seed(1618) # the golden ratio"
      ],
      "execution_count": 0,
      "outputs": []
    },
    {
      "cell_type": "code",
      "metadata": {
        "colab_type": "code",
        "id": "MGVn0pv6Vq_I",
        "colab": {}
      },
      "source": [
        "N = 100 # Monte Carlo simulations"
      ],
      "execution_count": 0,
      "outputs": []
    },
    {
      "cell_type": "code",
      "metadata": {
        "colab_type": "code",
        "id": "VI87YzuZVq_L",
        "colab": {}
      },
      "source": [
        "trials = 1000 # trials"
      ],
      "execution_count": 0,
      "outputs": []
    },
    {
      "cell_type": "code",
      "metadata": {
        "id": "D_eD4IOmjreO",
        "colab_type": "code",
        "colab": {}
      },
      "source": [
        "n_bandits = 2 # number of bandits"
      ],
      "execution_count": 0,
      "outputs": []
    },
    {
      "cell_type": "code",
      "metadata": {
        "colab_type": "code",
        "id": "yq0mk6_1Vq_N",
        "colab": {}
      },
      "source": [
        "class Game(object):\n",
        "    \"\"\"\n",
        "    Simulation of the game\n",
        "    drunk_probs: probability of a gambler being drunk\n",
        "    blink_probs: probability that machine would be blinking\n",
        "    payout_probs: probability of payout\n",
        "    policy: an object of the Policy class containing two methods choose_arm() and update(Y)\n",
        "    T: number of trials\n",
        "    \"\"\"\n",
        "    def __init__(self, drunk_probs, blink_probs, payout_probs, policy, T):\n",
        "        self.drunk_probs = drunk_probs\n",
        "        self.blink_probs = blink_probs\n",
        "        self.payout_probs = payout_probs\n",
        "        self.policy = policy\n",
        "        self.T = T\n",
        "        \n",
        "        # information about drunk and blinking\n",
        "        self.config = [0.] * len(self.payout_probs[0])\n",
        "        self.current_config = -1\n",
        "        \n",
        "        # rewards\n",
        "        self.rewards = []\n",
        "        \n",
        "        # cumulative regret\n",
        "        self.cumulative_regret = []\n",
        "        self.chosen_arms = []\n",
        "        self.best_arm_count = 0\n",
        "        self.best_arm_prob = []\n",
        "        \n",
        "        # game context\n",
        "        self.context = {}\n",
        "        \n",
        "    def generateContext(self):\n",
        "        d = int(sample('D', dist.Bernoulli(self.drunk_probs)))\n",
        "        b = int(sample('B', dist.Categorical(self.blink_probs)))\n",
        "        self.context = {\"d\": d, \"b\": b}\n",
        "    \n",
        "    def model(self):\n",
        "        # setup context\n",
        "        self.current_config = self.context[\"b\"] + 2* self.context[\"d\"]\n",
        "        \n",
        "        # arm\n",
        "        x = int(sample('X', dist.Delta(tensor(self.context[\"d\"] ^ self.context[\"b\"]))))\n",
        "        \n",
        "        # pull arm\n",
        "        y = sample('Y', dist.Bernoulli(self.payout_probs[x][self.current_config]))\n",
        "        \n",
        "        # update stats\n",
        "        self.config[self.current_config] += 1\n",
        "        self.chosen_arm = x\n",
        "        \n",
        "        return y\n",
        "    \n",
        "    def play(self):\n",
        "        for _ in range(self.T):\n",
        "            # generate context\n",
        "            self.generateContext()\n",
        "            \n",
        "            if self.policy is None:\n",
        "                # pull\n",
        "                Y = self.model()\n",
        "            else: \n",
        "                # choose an arm\n",
        "                self.chosen_arm = self.policy.choose_arm(self.context)\n",
        "            \n",
        "                # intervene and pull\n",
        "                int_model = do(self.model, {'X': self.chosen_arm})\n",
        "                Y = int_model()\n",
        "            \n",
        "                # update policy\n",
        "                self.policy.update(Y)\n",
        "            \n",
        "            # update stats\n",
        "            self.rewards.append(Y.item())\n",
        "            self.chosen_arms.append(self.chosen_arm)\n",
        "            self.cumulative_regret.append(self.regret())\n",
        "            self.best_arm_prob.append(self.best_arm())\n",
        "    \n",
        "    def regret(self):\n",
        "        return sum(self.payout_probs.max(dim=0)[0] * tensor(self.config)) - sum(self.rewards)\n",
        "    \n",
        "    def best_arm(self):\n",
        "        # get the best arm for the current context\n",
        "        best_val = np.argmax(self.payout_probs, axis=0)[self.current_config]\n",
        "        self.best_arm_count += int(best_val == self.chosen_arm)\n",
        "        return self.best_arm_count/len(self.chosen_arms)\n",
        "      \n",
        "    def stats(self):\n",
        "        X_Y = []\n",
        "        for k in [0.0, 1.0]:\n",
        "            X_Y.append(len([self.rewards[i] for i in range(len(self.rewards)) if (self.rewards[i] == 1.0  and self.chosen_arms[i] == k)])\\\n",
        "                        /len([el for el in self.chosen_arms if el == k]))\n",
        "\n",
        "        stats = [X_Y[0],X_Y[1]]\n",
        "\n",
        "\n",
        "        return stats"
      ],
      "execution_count": 0,
      "outputs": []
    },
    {
      "cell_type": "markdown",
      "metadata": {
        "colab_type": "text",
        "id": "LKdFZIliVq_S"
      },
      "source": [
        "# Drunk Gambler"
      ]
    },
    {
      "cell_type": "markdown",
      "metadata": {
        "colab_type": "text",
        "id": "yJOaqGXKVq_T"
      },
      "source": [
        "The gamblers play based on their natural predilections"
      ]
    },
    {
      "cell_type": "code",
      "metadata": {
        "colab_type": "code",
        "id": "_m9rs7xRVq_U",
        "colab": {}
      },
      "source": [
        "drunk_pr = tensor(0.5)\n",
        "blink_pr = tensor([0.5, 0.5])"
      ],
      "execution_count": 0,
      "outputs": []
    },
    {
      "cell_type": "code",
      "metadata": {
        "colab_type": "code",
        "id": "EHKzX5G5Vq_X",
        "colab": {}
      },
      "source": [
        "payout_pr = tensor([[0.1, 0.5, 0.4, 0.2],\n",
        "                    [0.5, 0.1, 0.2, 0.4]])"
      ],
      "execution_count": 0,
      "outputs": []
    },
    {
      "cell_type": "code",
      "metadata": {
        "colab_type": "code",
        "id": "b1x6cxpWVq_Z",
        "colab": {}
      },
      "source": [
        "drunk_regret = tensor([0.] * trials)\n",
        "drunk_results = tensor([0.] * n_bandits)\n",
        "for _ in range(N):\n",
        "    game = Game(drunk_probs=drunk_pr, blink_probs=blink_pr, payout_probs=payout_pr, T=trials, policy=None)\n",
        "    game.play()\n",
        "    drunk_regret += tensor(game.cumulative_regret)\n",
        "    drunk_results += tensor(game.stats())"
      ],
      "execution_count": 0,
      "outputs": []
    },
    {
      "cell_type": "code",
      "metadata": {
        "id": "s0Dzspmhel7u",
        "colab_type": "code",
        "outputId": "858715b8-c113-4082-a0be-14f05779cb6c",
        "colab": {
          "base_uri": "https://localhost:8080/",
          "height": 108
        }
      },
      "source": [
        "DataFrame((drunk_results/N).tolist(), columns=[\"P(Y=1|X)\"], index=[\"X=M1\",\"X=M2\"])"
      ],
      "execution_count": 0,
      "outputs": [
        {
          "output_type": "execute_result",
          "data": {
            "text/html": [
              "<div>\n",
              "<style scoped>\n",
              "    .dataframe tbody tr th:only-of-type {\n",
              "        vertical-align: middle;\n",
              "    }\n",
              "\n",
              "    .dataframe tbody tr th {\n",
              "        vertical-align: top;\n",
              "    }\n",
              "\n",
              "    .dataframe thead th {\n",
              "        text-align: right;\n",
              "    }\n",
              "</style>\n",
              "<table border=\"1\" class=\"dataframe\">\n",
              "  <thead>\n",
              "    <tr style=\"text-align: right;\">\n",
              "      <th></th>\n",
              "      <th>P(Y=1|X)</th>\n",
              "    </tr>\n",
              "  </thead>\n",
              "  <tbody>\n",
              "    <tr>\n",
              "      <th>X=M1</th>\n",
              "      <td>0.151453</td>\n",
              "    </tr>\n",
              "    <tr>\n",
              "      <th>X=M2</th>\n",
              "      <td>0.150486</td>\n",
              "    </tr>\n",
              "  </tbody>\n",
              "</table>\n",
              "</div>"
            ],
            "text/plain": [
              "      P(Y=1|X)\n",
              "X=M1  0.151453\n",
              "X=M2  0.150486"
            ]
          },
          "metadata": {
            "tags": []
          },
          "execution_count": 11
        }
      ]
    },
    {
      "cell_type": "markdown",
      "metadata": {
        "colab_type": "text",
        "id": "NWceGBgkVq_b"
      },
      "source": [
        "On running a simulation of the drunk gambler playing based on this new set up, we would get the following results"
      ]
    },
    {
      "cell_type": "markdown",
      "metadata": {
        "colab_type": "text",
        "id": "4WDLty6TVq_g"
      },
      "source": [
        "# Gaming commission"
      ]
    },
    {
      "cell_type": "markdown",
      "metadata": {
        "colab_type": "text",
        "id": "tnhuZv0pVq_h"
      },
      "source": [
        "The state decides to test if the 30% payout criterion is satisfied at this casino. This is done by choosing an arm based on a coin-flip i.e. $P(X=M_1) = P(X=M_2) = 0.5$"
      ]
    },
    {
      "cell_type": "code",
      "metadata": {
        "colab_type": "code",
        "id": "0LVEJS2OVq_i",
        "colab": {}
      },
      "source": [
        "class Policy(object):\n",
        "    def __init__(self):\n",
        "        pass\n",
        "    def update(self, Y):\n",
        "        pass\n",
        "    def choose_arm(self, context=None):\n",
        "        pass"
      ],
      "execution_count": 0,
      "outputs": []
    },
    {
      "cell_type": "code",
      "metadata": {
        "colab_type": "code",
        "id": "8qSS3nFEVq_l",
        "colab": {}
      },
      "source": [
        "class RandomSampler(Policy):\n",
        "    \"\"\"\n",
        "    Implementation of a Random Sampler where choosing each arm has equal probability\n",
        "    n_bandits: Number of slot machines\n",
        "  \"\"\"\n",
        "    def __init__(self, n_bandits):\n",
        "        self.n_bandits = n_bandits\n",
        "        self.params = [{\"w\": 0, \"l\": 0} for _ in range(self.n_bandits)]\n",
        "        self.arm_selected = 0\n",
        "        \n",
        "    def update(self, Y):\n",
        "        if Y == 1:\n",
        "            self.params[self.arm_selected][\"w\"] += 1\n",
        "        else:\n",
        "            self.params[self.arm_selected][\"l\"] += 1\n",
        "            \n",
        "    def choose_arm(self, context=None):\n",
        "        # each arm has an equal chance of being selected\n",
        "        probs = [1/self.n_bandits] * self.n_bandits\n",
        "        self.arm_selected = sample(\"arm_selected\", dist.Categorical(tensor(probs)))\n",
        "        return self.arm_selected"
      ],
      "execution_count": 0,
      "outputs": []
    },
    {
      "cell_type": "code",
      "metadata": {
        "colab_type": "code",
        "id": "DdJOM41GVq_n",
        "colab": {}
      },
      "source": [
        "commission_regret = tensor([0.] * trials)\n",
        "commission_best_arm = tensor([0.] * trials)\n",
        "commission_results = tensor([0.] * n_bandits)\n",
        "for _ in range(N):\n",
        "    game = Game(drunk_probs=drunk_pr, blink_probs=blink_pr, payout_probs=payout_pr, T=trials, policy=RandomSampler(n_bandits=n_bandits))\n",
        "    game.play()\n",
        "    commission_regret += tensor(game.cumulative_regret)\n",
        "    commission_best_arm += tensor(game.best_arm_prob)\n",
        "    commission_results += tensor(game.stats())"
      ],
      "execution_count": 0,
      "outputs": []
    },
    {
      "cell_type": "markdown",
      "metadata": {
        "colab_type": "text",
        "id": "I1SU6EF-Vq_o"
      },
      "source": [
        "On running a simulation of the gaming commission verifying the 30% payout, we would get the following results"
      ]
    },
    {
      "cell_type": "code",
      "metadata": {
        "colab_type": "code",
        "id": "9S4TpeQaVq_p",
        "outputId": "aec0d4b9-7335-4143-eebf-3cdf24c9694b",
        "colab": {
          "base_uri": "https://localhost:8080/",
          "height": 108
        }
      },
      "source": [
        "DataFrame((commission_results/N).tolist(), columns=[\"P(Y=1|X)\"], index=[\"X=M1\",\"X=M2\"])"
      ],
      "execution_count": 0,
      "outputs": [
        {
          "output_type": "execute_result",
          "data": {
            "text/html": [
              "<div>\n",
              "<style scoped>\n",
              "    .dataframe tbody tr th:only-of-type {\n",
              "        vertical-align: middle;\n",
              "    }\n",
              "\n",
              "    .dataframe tbody tr th {\n",
              "        vertical-align: top;\n",
              "    }\n",
              "\n",
              "    .dataframe thead th {\n",
              "        text-align: right;\n",
              "    }\n",
              "</style>\n",
              "<table border=\"1\" class=\"dataframe\">\n",
              "  <thead>\n",
              "    <tr style=\"text-align: right;\">\n",
              "      <th></th>\n",
              "      <th>P(Y=1|X)</th>\n",
              "    </tr>\n",
              "  </thead>\n",
              "  <tbody>\n",
              "    <tr>\n",
              "      <th>X=M1</th>\n",
              "      <td>0.301406</td>\n",
              "    </tr>\n",
              "    <tr>\n",
              "      <th>X=M2</th>\n",
              "      <td>0.296990</td>\n",
              "    </tr>\n",
              "  </tbody>\n",
              "</table>\n",
              "</div>"
            ],
            "text/plain": [
              "      P(Y=1|X)\n",
              "X=M1  0.301406\n",
              "X=M2  0.296990"
            ]
          },
          "metadata": {
            "tags": []
          },
          "execution_count": 15
        }
      ]
    },
    {
      "cell_type": "markdown",
      "metadata": {
        "colab_type": "text",
        "id": "x8_8Zn3yVq_s"
      },
      "source": [
        "It can be seen from the results that:\n",
        "    \n",
        "- The two arms are indistinguishable.\n",
        "\n",
        "- A user choosing based on natural predilections has a lower chance of winning.\n",
        "\n",
        "- The gaming commission conclude that the 30% criteria has been met."
      ]
    },
    {
      "cell_type": "markdown",
      "metadata": {
        "colab_type": "text",
        "id": "KrSfUET9Vq_t"
      },
      "source": [
        "# Thompson sampling"
      ]
    },
    {
      "cell_type": "markdown",
      "metadata": {
        "colab_type": "text",
        "id": "pxyrnidhVq_u"
      },
      "source": [
        "Thompson sampling is a very well known algorithm used widely in multi-class bandit problems."
      ]
    },
    {
      "cell_type": "code",
      "metadata": {
        "colab_type": "code",
        "id": "xitGKUddVq_v",
        "colab": {}
      },
      "source": [
        "class ThompsonSampler(Policy):\n",
        "    \"\"\"\n",
        "    Implementation of Causal Thompson sampling \n",
        "    n_bandits: Number of slot machines\n",
        "  \"\"\"\n",
        "    def __init__(self, n_bandits):\n",
        "        self.n_bandits = n_bandits\n",
        "        # keep track of rewards for each arm\n",
        "        self.params = [{\"a\": 1, \"b\": 1} for _ in range(self.n_bandits)]\n",
        "        self.arm_selected = 0\n",
        "    \n",
        "    def update(self, Y):\n",
        "        # update parameters based on payout\n",
        "        if Y == 1:\n",
        "            self.params[self.arm_selected][\"a\"] += 1\n",
        "        else:\n",
        "            self.params[self.arm_selected][\"b\"] += 1\n",
        "            \n",
        "    def choose_arm(self, context=None):\n",
        "        # determine weights based on past rewards\n",
        "        probs = [el[\"a\"]/(el[\"a\"] + el[\"b\"]) for el in self.params]\n",
        "        \n",
        "        # sample arm from a categorical distribution\n",
        "        self.arm_selected = sample(\"arm_selected\", dist.Categorical(tensor(probs)))\n",
        "        return self.arm_selected"
      ],
      "execution_count": 0,
      "outputs": []
    },
    {
      "cell_type": "code",
      "metadata": {
        "colab_type": "code",
        "id": "bLOlAI6_Vq_2",
        "colab": {}
      },
      "source": [
        "thompson_regret = tensor([0.] * trials)\n",
        "thompson_best_arm = tensor([0.] * trials)\n",
        "thompson_results = tensor([0.] * n_bandits)\n",
        "for _ in range(N):\n",
        "    game = Game(drunk_probs=drunk_pr, blink_probs=blink_pr, payout_probs=payout_pr, T=trials, policy=ThompsonSampler(n_bandits=n_bandits))\n",
        "    game.play()\n",
        "    thompson_regret += tensor(game.cumulative_regret)\n",
        "    thompson_best_arm += tensor(game.best_arm_prob)\n",
        "    thompson_results += tensor(game.stats())"
      ],
      "execution_count": 0,
      "outputs": []
    },
    {
      "cell_type": "markdown",
      "metadata": {
        "colab_type": "text",
        "id": "bPW5u8GUVq_7"
      },
      "source": [
        "On running simulations of Thompson sampling, we get the following results"
      ]
    },
    {
      "cell_type": "code",
      "metadata": {
        "colab_type": "code",
        "id": "3XBCIU24Vq_8",
        "outputId": "029864d7-0ef2-4a82-d9fc-21ee9a3e799a",
        "colab": {
          "base_uri": "https://localhost:8080/",
          "height": 108
        }
      },
      "source": [
        "DataFrame((thompson_results/N).tolist(), columns=[\"P(Y=1|X)\"], index=[\"X=M1\",\"X=M2\"])"
      ],
      "execution_count": 0,
      "outputs": [
        {
          "output_type": "execute_result",
          "data": {
            "text/html": [
              "<div>\n",
              "<style scoped>\n",
              "    .dataframe tbody tr th:only-of-type {\n",
              "        vertical-align: middle;\n",
              "    }\n",
              "\n",
              "    .dataframe tbody tr th {\n",
              "        vertical-align: top;\n",
              "    }\n",
              "\n",
              "    .dataframe thead th {\n",
              "        text-align: right;\n",
              "    }\n",
              "</style>\n",
              "<table border=\"1\" class=\"dataframe\">\n",
              "  <thead>\n",
              "    <tr style=\"text-align: right;\">\n",
              "      <th></th>\n",
              "      <th>P(Y=1|X)</th>\n",
              "    </tr>\n",
              "  </thead>\n",
              "  <tbody>\n",
              "    <tr>\n",
              "      <th>X=M1</th>\n",
              "      <td>0.296736</td>\n",
              "    </tr>\n",
              "    <tr>\n",
              "      <th>X=M2</th>\n",
              "      <td>0.300095</td>\n",
              "    </tr>\n",
              "  </tbody>\n",
              "</table>\n",
              "</div>"
            ],
            "text/plain": [
              "      P(Y=1|X)\n",
              "X=M1  0.296736\n",
              "X=M2  0.300095"
            ]
          },
          "metadata": {
            "tags": []
          },
          "execution_count": 18
        }
      ]
    },
    {
      "cell_type": "markdown",
      "metadata": {
        "colab_type": "text",
        "id": "6D-wuV1NVq_9"
      },
      "source": [
        "# Causal Thompson sampling"
      ]
    },
    {
      "cell_type": "markdown",
      "metadata": {
        "colab_type": "text",
        "id": "bD71yn1SVq_-"
      },
      "source": [
        "This is a new sampling method developed to account for unobserved confounders while sampling. Thompson sampling does not perform particularly well when there are unobserved confounders."
      ]
    },
    {
      "cell_type": "markdown",
      "metadata": {
        "colab_type": "text",
        "id": "ts_K-uzTVq_-"
      },
      "source": [
        "## How Causal Thompson sampling works"
      ]
    },
    {
      "cell_type": "markdown",
      "metadata": {
        "colab_type": "text",
        "id": "KRY7S56fVq__"
      },
      "source": [
        "A causal thompson sampler takes into account the users intuition to play an arm and suggests an introspection comparing the odds of winning following his intuition or going against it. It considers using the rule that compares the average payouts obtained by players for choosing in favour or against their intuition. This procedure is called regret decision criteria. We exploit the fact that a superior arm will emerge quickly by weighting the favorable arm by making it more likely to be chosen early in the learning process."
      ]
    },
    {
      "cell_type": "code",
      "metadata": {
        "colab_type": "code",
        "id": "H8R-uc6PVrAA",
        "colab": {}
      },
      "source": [
        "class CausalThompsonSampler(Policy):\n",
        "    \"\"\"\n",
        "        Implementation of Causal Thompson sampling \n",
        "        n_bandits: Number of slot machines\n",
        "        payout_pr: Probability of payout\n",
        "    \"\"\"\n",
        "    def __init__(self, n_bandits, payout_pr):\n",
        "        self.n_bandits = n_bandits\n",
        "        \n",
        "        # success and failure counts of playing an arm (Observation)\n",
        "        self.s = ones((2,2))\n",
        "        self.f = ones((2,2))\n",
        "      \n",
        "        # arm selected based on the causal thompson policy\n",
        " \n",
        "        self.arm_selected = 0\n",
        "        \n",
        "        # arm based on intuition\n",
        "        self.x_intuition = 0\n",
        "        \n",
        "        # P(Y=1|X=0, Z=0) * 100 , Z is the intuition \n",
        "        self.s[0][0] = (payout_pr[0][0] + payout_pr[0][3]) * 100/2 \n",
        "        \n",
        "        # P(Y=1|X=1, Z=1) * 100 \n",
        "        self.s[1][1] = (payout_pr[1][1] + payout_pr[1][2]) * 100/2\n",
        "        \n",
        "        # P(Y=0|X=0, Z=0) * 100 \n",
        "        self.f[0][0] = (1 - payout_pr[0][0] + 1 - payout_pr[0][3]) * 100/ 2\n",
        "        \n",
        "        # P(Y=0|X=1, Z=1) * 100 \n",
        "        self.f[1][1] = (1 - payout_pr[1][1] + 1 - payout_pr[1][2]) * 100/2    \n",
        "        \n",
        "        # P(Y=1|X) Probability of payout for each arm by observation \n",
        "        self.p_Y_X = [self.s[i][i]/(self.s[i][i] + self.f[i][i]) for i in range(self.n_bandits)]\n",
        "        \n",
        "        # updated probability of payout for each arm \n",
        "        self.theta = [0, 0]   \n",
        "        \n",
        "        \n",
        "    def update(self, reward):\n",
        "        # update the count of payouts\n",
        "        self.s[self.x_intuition][self.arm_selected] += int(reward)\n",
        "        self.f[self.x_intuition][self.arm_selected] += 1 - int(reward)   \n",
        "  \n",
        "    def choose_arm(self, context=None): \n",
        "        # get the context\n",
        "        d = context[\"d\"]\n",
        "        b = context[\"b\"]\n",
        "        # arm to be played according to players natural predilection\n",
        "        self.x_intuition = int(sample('Z', dist.Delta(tensor(d^b))))\n",
        "        \n",
        "        # counter intuition, if x is 0, x' is 1 else 0\n",
        "        x_prime = 1 - self.x_intuition \n",
        "        \n",
        "        # P(Y=1|do(X=x)) \n",
        "        p_Y_doX_Z = [[self.s[i][0]/(self.s[i][0] + self.f[i][0]), self.s[i][1]/(self.s[i][1] + self.f[i][1])] for i in range(self.n_bandits)] \n",
        "\n",
        "        # E(YX=x' |X = x) estimated payout for counter intuition\n",
        "        Q1 = p_Y_doX_Z[self.x_intuition][x_prime]\n",
        "        \n",
        "        # P(y|X = x) , estimated payout for intuiton\n",
        "        Q2 = self.p_Y_X[self.x_intuition] \n",
        "        \n",
        "        # ETT\n",
        "        bias = abs(Q1- Q2)\n",
        "         \n",
        "        # initialize weights\n",
        "        w = ones(2)\n",
        "        \n",
        "        if np.isnan(bias):\n",
        "            weight = 1\n",
        "        else:\n",
        "            weight = 1 - bias\n",
        "         \n",
        "        # choose arm to bias        \n",
        "        if Q1 > Q2:\n",
        "            w[self.x_intuition] = weight\n",
        "        else:\n",
        "            w[x_prime] = weight\n",
        "        \n",
        "        # choose arm\n",
        "        self.theta = [sample(\"theta_0\", dist.Beta(self.s[self.x_intuition][0], self.f[self.x_intuition][0])) * w[0],  sample(\"theta_1\", dist.Beta(self.s[self.x_intuition][1], self.f[self.x_intuition][1])) * w[1]]\n",
        "        self.arm_selected = self.theta.index(max(self.theta))\n",
        "        return self.arm_selected"
      ],
      "execution_count": 0,
      "outputs": []
    },
    {
      "cell_type": "code",
      "metadata": {
        "colab_type": "code",
        "id": "0BRFLVmcVrAB",
        "colab": {}
      },
      "source": [
        "causal_regret = tensor([0.] * trials)\n",
        "causal_best_arm = tensor([0.] * trials)\n",
        "causal_results = tensor([0.] * n_bandits)\n",
        "for _ in range(N):\n",
        "    game = Game(drunk_probs=drunk_pr, blink_probs=blink_pr, payout_probs=payout_pr, T=trials, policy=CausalThompsonSampler(n_bandits=n_bandits, payout_pr=payout_pr))\n",
        "    game.play()\n",
        "    causal_regret += tensor(game.cumulative_regret)\n",
        "    causal_best_arm += tensor(game.best_arm_prob)\n",
        "    causal_results += tensor(game.stats())"
      ],
      "execution_count": 0,
      "outputs": []
    },
    {
      "cell_type": "markdown",
      "metadata": {
        "colab_type": "text",
        "id": "Sz6uy-UIVrAE"
      },
      "source": [
        "On running simulations of Causal Thompson sampling, we get the following results"
      ]
    },
    {
      "cell_type": "code",
      "metadata": {
        "colab_type": "code",
        "id": "-qo-j7xTVrAF",
        "outputId": "5f2884b9-7652-42de-be1f-f71cfb3327a4",
        "colab": {
          "base_uri": "https://localhost:8080/",
          "height": 108
        }
      },
      "source": [
        "DataFrame((causal_results/N).tolist(), columns=[\"P(Y=1|X)\"], index=[\"X=M1\",\"X=M2\"])"
      ],
      "execution_count": 0,
      "outputs": [
        {
          "output_type": "execute_result",
          "data": {
            "text/html": [
              "<div>\n",
              "<style scoped>\n",
              "    .dataframe tbody tr th:only-of-type {\n",
              "        vertical-align: middle;\n",
              "    }\n",
              "\n",
              "    .dataframe tbody tr th {\n",
              "        vertical-align: top;\n",
              "    }\n",
              "\n",
              "    .dataframe thead th {\n",
              "        text-align: right;\n",
              "    }\n",
              "</style>\n",
              "<table border=\"1\" class=\"dataframe\">\n",
              "  <thead>\n",
              "    <tr style=\"text-align: right;\">\n",
              "      <th></th>\n",
              "      <th>P(Y=1|X)</th>\n",
              "    </tr>\n",
              "  </thead>\n",
              "  <tbody>\n",
              "    <tr>\n",
              "      <th>X=M1</th>\n",
              "      <td>0.449372</td>\n",
              "    </tr>\n",
              "    <tr>\n",
              "      <th>X=M2</th>\n",
              "      <td>0.449666</td>\n",
              "    </tr>\n",
              "  </tbody>\n",
              "</table>\n",
              "</div>"
            ],
            "text/plain": [
              "      P(Y=1|X)\n",
              "X=M1  0.449372\n",
              "X=M2  0.449666"
            ]
          },
          "metadata": {
            "tags": []
          },
          "execution_count": 21
        }
      ]
    },
    {
      "cell_type": "markdown",
      "metadata": {
        "colab_type": "text",
        "id": "DS8k0iKxVrAH"
      },
      "source": [
        "# Results"
      ]
    },
    {
      "cell_type": "markdown",
      "metadata": {
        "colab_type": "text",
        "id": "KP10bAcRVrAI"
      },
      "source": [
        "*Cumulative regret for each policy*"
      ]
    },
    {
      "cell_type": "code",
      "metadata": {
        "colab_type": "code",
        "id": "ZLH2zmuDVrAI",
        "outputId": "a2279325-d205-4d10-d42e-e34f338e604d",
        "colab": {
          "base_uri": "https://localhost:8080/",
          "height": 295
        }
      },
      "source": [
        "plt.figure()\n",
        "plt.title(\"Cumulative regret\")\n",
        "plt.xlabel(\"# of trials\")\n",
        "plt.ylabel(\"Cumulative regret\")\n",
        "plt.plot([el.item() for el in list(drunk_regret/N)], label=\"Observational\")\n",
        "plt.plot([el.item() for el in list(commission_regret/N)], label=\"Coin Flip\")\n",
        "plt.plot([el.item() for el in list(thompson_regret/N)], label=\"TS\")\n",
        "plt.plot([el.item() for el in list(causal_regret/N)], label=\"Causal TS\")\n",
        "plt.legend()\n",
        "plt.show()"
      ],
      "execution_count": 0,
      "outputs": [
        {
          "output_type": "display_data",
          "data": {
            "image/png": "[encoded data removed]",
            "text/plain": [
              "<Figure size 432x288 with 1 Axes>"
            ]
          },
          "metadata": {
            "tags": []
          }
        }
      ]
    },
    {
      "cell_type": "markdown",
      "metadata": {
        "id": "3f5-K2NxXpm2",
        "colab_type": "text"
      },
      "source": [
        "*Probability of choosing the best arm for each policy*"
      ]
    },
    {
      "cell_type": "code",
      "metadata": {
        "id": "V-d-n_ERHVdl",
        "colab_type": "code",
        "outputId": "ef180ae7-8ae3-472f-9db5-e32c4b5cc6f6",
        "colab": {
          "base_uri": "https://localhost:8080/",
          "height": 295
        }
      },
      "source": [
        "plt.figure()\n",
        "plt.axis([0,1000, 0, 1.0])\n",
        "plt.title(\"Probability of Optimal action\")\n",
        "plt.plot([el.item() for el in list(commission_best_arm/N)], label=\"Coin Flip\")\n",
        "plt.plot([el.item() for el in list(thompson_best_arm/N)], label=\"TS\")\n",
        "plt.plot([el.item() for el in list(causal_best_arm/N)], label=\"Causal TS\")\n",
        "plt.xlabel(\"# of trials\")\n",
        "plt.ylabel(\"Probability of choosing best arm\")\n",
        "plt.legend()\n",
        "plt.show()"
      ],
      "execution_count": 0,
      "outputs": [
        {
          "output_type": "display_data",
          "data": {
            "image/png": "[encoded data removed]",
            "text/plain": [
              "<Figure size 432x288 with 1 Axes>"
            ]
          },
          "metadata": {
            "tags": []
          }
        }
      ]
    },
    {
      "cell_type": "markdown",
      "metadata": {
        "colab_type": "text",
        "id": "yHS55JVjVrAL"
      },
      "source": [
        "# Key learnings"
      ]
    },
    {
      "cell_type": "markdown",
      "metadata": {
        "colab_type": "text",
        "id": "C2TxSvfFVrAL"
      },
      "source": [
        "These are the key learnings from the project"
      ]
    },
    {
      "cell_type": "markdown",
      "metadata": {
        "colab_type": "text",
        "id": "Re5BEQpZVrAM"
      },
      "source": [
        "1) Understanding of multi-armed bandit problems\n",
        "\n",
        "2) Understanding of Thompson sampling and its use in developing an optimal strategy\n",
        "\n",
        "3) Effect of Thompson sampling in presence of unobserved confounders\n",
        "\n",
        "4) Viewing the multi-armed bandit problem as a causal one\n",
        "\n",
        "5) Performing counterfactual reasoning using Causal Thompson sampling"
      ]
    },
    {
      "cell_type": "markdown",
      "metadata": {
        "id": "-ynF5gejXV-T",
        "colab_type": "text"
      },
      "source": [
        "# References"
      ]
    },
    {
      "cell_type": "markdown",
      "metadata": {
        "id": "FHrTSdjeT8Y6",
        "colab_type": "text"
      },
      "source": [
        "[1]  [Bayesian methods for hackers , Cameron Davidson-Pilon](http://ptgmedia.pearsoncmg.com/images/9780133902839/samplepages/9780133902839.pdf)\n",
        "\n",
        "[2]  https://github.com/CamDavidsonPilon/Probabilistic-Programming-and-Bayesian-Methods-for-Hackers/tree/master/Chapter6_Priorities\n",
        "\n",
        "[3] [Causal Inference in Statistics  An Overview](https://ftp.cs.ucla.edu/pub/stat_ser/r350.pdf)\n",
        "\n",
        "[4] [Bandits with Unobserved Confounders: A Causal Approach](https://papers.nips.cc/paper/5692-bandits-with-unobserved-confounders-a-causal-approach.pdf)\n",
        "\n",
        "[5] https://github.com/ucla-csl/mabuc\n",
        "\n",
        "[6] [Bandit Algorithms for Website Optimization](https://doc.lagout.org/science/0_Computer%20Science/2_Algorithms/Bandit%20Algorithms%20for%20Website%20Optimization%20%5BWhite%202013-01-03%5D.pdf)\n",
        "\n",
        "\n"
      ]
    }
  ]
}